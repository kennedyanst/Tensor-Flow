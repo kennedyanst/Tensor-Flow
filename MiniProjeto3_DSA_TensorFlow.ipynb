{
 "cells": [
  {
   "cell_type": "markdown",
   "metadata": {},
   "source": [
    "# <font color='blue'>Data Science Academy - Python Fundamentos - Capítulo 10</font>\n",
    "\n",
    "## Download: http://github.com/dsacademybr"
   ]
  },
  {
   "cell_type": "markdown",
   "metadata": {},
   "source": [
    "## Mini-Projeto 3 - Guia de Modelagem Preditiva com Linguagem Python e TensorFlow"
   ]
  },
  {
   "cell_type": "markdown",
   "metadata": {},
   "source": [
    "![title](imagens/mini-projeto3.png)"
   ]
  },
  {
   "cell_type": "markdown",
   "metadata": {},
   "source": [
    "Neste Mini-Projeto vamos apresentar um guia básico de modelagem preditiva usando Linguagem Python e TensorFlow, o principal framework para construção de modelos de Machine Learning e Deep Learning e para construir aplicações comerciais de Inteligência Artificial.\n",
    "\n",
    "Este é um guia básico pois o TensorFlow é um framework extenso. O TensorFlow é abordado em detalhes nos cursos da <a href=\"https://www.datascienceacademy.com.br/bundle/formacao-inteligencia-artificial\">Formação Inteligência Artificial</a> (especialmente no curso Deep Learning Frameworks) e na <a href=\"https://www.datascienceacademy.com.br/bundle/formacao-inteligencia-artificial-aplicada-a-medicina\">Formação IA Aplicada à Medicina</a>.\n",
    "\n",
    "Na <a href=\"https://www.datascienceacademy.com.br/bundle/formacao-cientista-de-dados\">Formação Cientista de Dados</a>, no curso de Machine Learning também há um módulo sobre TensorFlow. Alguns projetos com TensorFlow podem ser encontrados no curso de IA Aplicada a Finanças da <a href=\"https://www.datascienceacademy.com.br/bundle/formacao-engenheiro-blockchain\">Formação Engenheiro Blockchain</a>."
   ]
  },
  {
   "cell_type": "markdown",
   "metadata": {},
   "source": [
    "## Instalando e Carregando Pacotes"
   ]
  },
  {
   "cell_type": "code",
   "execution_count": 1,
   "metadata": {},
   "outputs": [
    {
     "name": "stdout",
     "output_type": "stream",
     "text": [
      "Versão da Linguagem Python Usada Neste Jupyter Notebook: 3.8.8\n"
     ]
    }
   ],
   "source": [
    "# Versão da Linguagem Python\n",
    "from platform import python_version\n",
    "print('Versão da Linguagem Python Usada Neste Jupyter Notebook:', python_version())"
   ]
  },
  {
   "cell_type": "code",
   "execution_count": 2,
   "metadata": {},
   "outputs": [],
   "source": [
    "# Instala o TensorFlow\n",
    "!pip install -q tensorflow==2.5"
   ]
  },
  {
   "cell_type": "code",
   "execution_count": 3,
   "metadata": {},
   "outputs": [],
   "source": [
    "# Instala o Pydot\n",
    "!pip install -q pydot"
   ]
  },
  {
   "cell_type": "code",
   "execution_count": 4,
   "metadata": {
    "colab": {
     "base_uri": "https://localhost:8080/",
     "height": 70
    },
    "colab_type": "code",
    "id": "Yh0AtXXOXVuD",
    "outputId": "ec529b08-63f5-42a6-c058-56b3d81421b7"
   },
   "outputs": [],
   "source": [
    "# Imports\n",
    "import numpy as np\n",
    "import pandas as pd\n",
    "import matplotlib.pyplot as plt\n",
    "import seaborn as sns"
   ]
  },
  {
   "cell_type": "code",
   "execution_count": 5,
   "metadata": {
    "colab": {
     "base_uri": "https://localhost:8080/",
     "height": 34
    },
    "colab_type": "code",
    "id": "zP5cGu1RWLxw",
    "outputId": "d7957dbd-6a86-4c68-9f92-b97cf7e2826c"
   },
   "outputs": [
    {
     "name": "stdout",
     "output_type": "stream",
     "text": [
      "2.5.0\n"
     ]
    }
   ],
   "source": [
    "# Imports\n",
    "import tensorflow as tf\n",
    "from tensorflow import keras\n",
    "from tensorflow.keras import layers\n",
    "print(tf.__version__)"
   ]
  },
  {
   "cell_type": "markdown",
   "metadata": {},
   "source": [
    "## Carregando os Dados"
   ]
  },
  {
   "cell_type": "markdown",
   "metadata": {
    "colab_type": "text",
    "id": "CTetrCMSca0w"
   },
   "source": [
    "### Boston House Prices Dataset\n",
    "\n",
    "https://www.cs.toronto.edu/~delve/data/boston/bostonDetail.html\n",
    "\n",
    "#### Características:\n",
    "\n",
    "* Número de Observções: 506\n",
    "* Os primeiros 13 recursos são recursos preditivos numéricos / categóricos. \n",
    "* O último (atributo 14): o valor mediano é a variável de destino."
   ]
  },
  {
   "cell_type": "code",
   "execution_count": 6,
   "metadata": {
    "colab": {
     "base_uri": "https://localhost:8080/",
     "height": 50
    },
    "colab_type": "code",
    "id": "3bAedq0NWThz",
    "outputId": "cbfdce8f-2dbc-494c-b2ab-32fa66159aaf"
   },
   "outputs": [],
   "source": [
    "# Download dos dados\n",
    "import ssl\n",
    "ssl._create_default_https_context = ssl._create_unverified_context\n",
    "dataset_path = keras.utils.get_file(\"housing.data\", \"https://archive.ics.uci.edu/ml/machine-learning-databases/housing/housing.data\")"
   ]
  },
  {
   "cell_type": "code",
   "execution_count": 7,
   "metadata": {
    "colab": {
     "base_uri": "https://localhost:8080/",
     "height": 343
    },
    "colab_type": "code",
    "id": "U3Pv_Om-WwHN",
    "outputId": "24075064-33e9-471c-8199-8f3691643587"
   },
   "outputs": [],
   "source": [
    "# Nomes das colunas\n",
    "nomes_colunas = ['CRIM',\n",
    "                 'ZN',\n",
    "                 'INDUS',\n",
    "                 'CHAS',\n",
    "                 'NOX',\n",
    "                 'RM', \n",
    "                 'AGE', \n",
    "                 'DIS',\n",
    "                 'RAD',\n",
    "                 'TAX',\n",
    "                 'PTRATION', \n",
    "                 'B', \n",
    "                 'LSTAT', \n",
    "                 'MEDV']"
   ]
  },
  {
   "cell_type": "code",
   "execution_count": 8,
   "metadata": {},
   "outputs": [],
   "source": [
    "# Carrega os dados\n",
    "dataset = pd.read_csv(dataset_path, \n",
    "                      names = nomes_colunas,\n",
    "                      na_values = \"?\", \n",
    "                      comment = '\\t',\n",
    "                      sep = \" \", \n",
    "                      skipinitialspace = True)"
   ]
  },
  {
   "cell_type": "code",
   "execution_count": 9,
   "metadata": {},
   "outputs": [
    {
     "data": {
      "text/plain": [
       "(506, 14)"
      ]
     },
     "execution_count": 9,
     "metadata": {},
     "output_type": "execute_result"
    }
   ],
   "source": [
    "# Shape\n",
    "dataset.shape"
   ]
  },
  {
   "cell_type": "code",
   "execution_count": 10,
   "metadata": {},
   "outputs": [
    {
     "data": {
      "text/html": [
       "<div>\n",
       "<style scoped>\n",
       "    .dataframe tbody tr th:only-of-type {\n",
       "        vertical-align: middle;\n",
       "    }\n",
       "\n",
       "    .dataframe tbody tr th {\n",
       "        vertical-align: top;\n",
       "    }\n",
       "\n",
       "    .dataframe thead th {\n",
       "        text-align: right;\n",
       "    }\n",
       "</style>\n",
       "<table border=\"1\" class=\"dataframe\">\n",
       "  <thead>\n",
       "    <tr style=\"text-align: right;\">\n",
       "      <th></th>\n",
       "      <th>CRIM</th>\n",
       "      <th>ZN</th>\n",
       "      <th>INDUS</th>\n",
       "      <th>CHAS</th>\n",
       "      <th>NOX</th>\n",
       "      <th>RM</th>\n",
       "      <th>AGE</th>\n",
       "      <th>DIS</th>\n",
       "      <th>RAD</th>\n",
       "      <th>TAX</th>\n",
       "      <th>PTRATION</th>\n",
       "      <th>B</th>\n",
       "      <th>LSTAT</th>\n",
       "      <th>MEDV</th>\n",
       "    </tr>\n",
       "  </thead>\n",
       "  <tbody>\n",
       "    <tr>\n",
       "      <th>0</th>\n",
       "      <td>0.00632</td>\n",
       "      <td>18.0</td>\n",
       "      <td>2.31</td>\n",
       "      <td>0</td>\n",
       "      <td>0.538</td>\n",
       "      <td>6.575</td>\n",
       "      <td>65.2</td>\n",
       "      <td>4.0900</td>\n",
       "      <td>1</td>\n",
       "      <td>296.0</td>\n",
       "      <td>15.3</td>\n",
       "      <td>396.90</td>\n",
       "      <td>4.98</td>\n",
       "      <td>24.0</td>\n",
       "    </tr>\n",
       "    <tr>\n",
       "      <th>1</th>\n",
       "      <td>0.02731</td>\n",
       "      <td>0.0</td>\n",
       "      <td>7.07</td>\n",
       "      <td>0</td>\n",
       "      <td>0.469</td>\n",
       "      <td>6.421</td>\n",
       "      <td>78.9</td>\n",
       "      <td>4.9671</td>\n",
       "      <td>2</td>\n",
       "      <td>242.0</td>\n",
       "      <td>17.8</td>\n",
       "      <td>396.90</td>\n",
       "      <td>9.14</td>\n",
       "      <td>21.6</td>\n",
       "    </tr>\n",
       "    <tr>\n",
       "      <th>2</th>\n",
       "      <td>0.02729</td>\n",
       "      <td>0.0</td>\n",
       "      <td>7.07</td>\n",
       "      <td>0</td>\n",
       "      <td>0.469</td>\n",
       "      <td>7.185</td>\n",
       "      <td>61.1</td>\n",
       "      <td>4.9671</td>\n",
       "      <td>2</td>\n",
       "      <td>242.0</td>\n",
       "      <td>17.8</td>\n",
       "      <td>392.83</td>\n",
       "      <td>4.03</td>\n",
       "      <td>34.7</td>\n",
       "    </tr>\n",
       "    <tr>\n",
       "      <th>3</th>\n",
       "      <td>0.03237</td>\n",
       "      <td>0.0</td>\n",
       "      <td>2.18</td>\n",
       "      <td>0</td>\n",
       "      <td>0.458</td>\n",
       "      <td>6.998</td>\n",
       "      <td>45.8</td>\n",
       "      <td>6.0622</td>\n",
       "      <td>3</td>\n",
       "      <td>222.0</td>\n",
       "      <td>18.7</td>\n",
       "      <td>394.63</td>\n",
       "      <td>2.94</td>\n",
       "      <td>33.4</td>\n",
       "    </tr>\n",
       "    <tr>\n",
       "      <th>4</th>\n",
       "      <td>0.06905</td>\n",
       "      <td>0.0</td>\n",
       "      <td>2.18</td>\n",
       "      <td>0</td>\n",
       "      <td>0.458</td>\n",
       "      <td>7.147</td>\n",
       "      <td>54.2</td>\n",
       "      <td>6.0622</td>\n",
       "      <td>3</td>\n",
       "      <td>222.0</td>\n",
       "      <td>18.7</td>\n",
       "      <td>396.90</td>\n",
       "      <td>5.33</td>\n",
       "      <td>36.2</td>\n",
       "    </tr>\n",
       "  </tbody>\n",
       "</table>\n",
       "</div>"
      ],
      "text/plain": [
       "      CRIM    ZN  INDUS  CHAS    NOX     RM   AGE     DIS  RAD    TAX  \\\n",
       "0  0.00632  18.0   2.31     0  0.538  6.575  65.2  4.0900    1  296.0   \n",
       "1  0.02731   0.0   7.07     0  0.469  6.421  78.9  4.9671    2  242.0   \n",
       "2  0.02729   0.0   7.07     0  0.469  7.185  61.1  4.9671    2  242.0   \n",
       "3  0.03237   0.0   2.18     0  0.458  6.998  45.8  6.0622    3  222.0   \n",
       "4  0.06905   0.0   2.18     0  0.458  7.147  54.2  6.0622    3  222.0   \n",
       "\n",
       "   PTRATION       B  LSTAT  MEDV  \n",
       "0      15.3  396.90   4.98  24.0  \n",
       "1      17.8  396.90   9.14  21.6  \n",
       "2      17.8  392.83   4.03  34.7  \n",
       "3      18.7  394.63   2.94  33.4  \n",
       "4      18.7  396.90   5.33  36.2  "
      ]
     },
     "execution_count": 10,
     "metadata": {},
     "output_type": "execute_result"
    }
   ],
   "source": [
    "# Visualiza os dados\n",
    "dataset.head()"
   ]
  },
  {
   "cell_type": "markdown",
   "metadata": {
    "colab_type": "text",
    "id": "nf8QJRMeh910"
   },
   "source": [
    "Vamos dividir os dados em treino e teste com proporção 80/20."
   ]
  },
  {
   "cell_type": "code",
   "execution_count": 11,
   "metadata": {
    "colab": {},
    "colab_type": "code",
    "id": "Vd0uyKsFgyQ0"
   },
   "outputs": [],
   "source": [
    "# Split dos dados\n",
    "dados_treino = dataset.sample(frac = 0.8, random_state = 0)\n",
    "dados_teste = dataset.drop(dados_treino.index)"
   ]
  },
  {
   "cell_type": "markdown",
   "metadata": {
    "colab_type": "text",
    "id": "4vC8cz0chjL1"
   },
   "source": [
    "## Modelagem Preditiva - Regressão Linear Simples\n",
    "\n",
    "Na regressão linear simples desejamos modelar a relação entre a variável dependente (y) e uma variável independente (x).\n",
    "\n",
    "* Variável independente: 'RM'\n",
    "* Variável dependente: 'MEDV'\n",
    "\n",
    "Queremos prever o valor da mediana das casas ocupadas por proprietários com base no número de quartos."
   ]
  },
  {
   "cell_type": "markdown",
   "metadata": {
    "colab_type": "text",
    "id": "KY0vmL_PhIPn"
   },
   "source": [
    "Vamos criar um plot mostrando a relação atual entre as variáveis.\n",
    "\n",
    "Basicamente temos $MEDV=f(RM)$ e queremos estimar a função $f()$ usando regressão linear."
   ]
  },
  {
   "cell_type": "code",
   "execution_count": 12,
   "metadata": {
    "colab": {
     "base_uri": "https://localhost:8080/",
     "height": 279
    },
    "colab_type": "code",
    "id": "E_R3ADmzgmo0",
    "outputId": "5bffce03-ca2a-4d56-9710-4c280cdb6482"
   },
   "outputs": [
    {
     "data": {
      "image/png": "[encoded data removed]",
      "text/plain": [
       "<Figure size 432x288 with 1 Axes>"
      ]
     },
     "metadata": {
      "needs_background": "light"
     },
     "output_type": "display_data"
    }
   ],
   "source": [
    "# Representação visual dos dados de treino\n",
    "fig, ax = plt.subplots()\n",
    "x = dados_treino['RM']\n",
    "y = dados_treino['MEDV']\n",
    "ax.scatter(x, y, edgecolors = (0, 0, 0))\n",
    "ax.set_xlabel('RM')\n",
    "ax.set_ylabel('MEDV')\n",
    "plt.show()"
   ]
  },
  {
   "cell_type": "markdown",
   "metadata": {
    "colab_type": "text",
    "id": "M-EpBay_M3_X"
   },
   "source": [
    "Vamos separar x e y."
   ]
  },
  {
   "cell_type": "code",
   "execution_count": 13,
   "metadata": {
    "colab": {},
    "colab_type": "code",
    "id": "dgOBhSaniDHx"
   },
   "outputs": [],
   "source": [
    "# Divisão\n",
    "x_treino = dados_treino['RM']\n",
    "y_treino = dados_treino['MEDV']\n",
    "x_teste = dados_teste['RM']\n",
    "y_teste = dados_teste['MEDV']"
   ]
  },
  {
   "cell_type": "markdown",
   "metadata": {
    "colab_type": "text",
    "id": "VXA8J28QWYMH"
   },
   "source": [
    "## Criação do Modelo\n",
    "\n",
    "Queremos encontrar os parâmetros (**W**) que permitem prever a saída y a partir da entrada x:\n",
    "\n",
    "$y = w_1 x + w_0$\n",
    "\n",
    "A fórmula acima pode ser definida com a seguinte camada densa em um modelo de rede neural artificial:\n",
    "\n",
    "*layers.Dense(1, use_bias=True, input_shape=(1,))*"
   ]
  },
  {
   "cell_type": "code",
   "execution_count": 14,
   "metadata": {},
   "outputs": [],
   "source": [
    "# Função para construir o modelo\n",
    "def modelo_linear():\n",
    "    \n",
    "    # Cria o modelo\n",
    "    model = keras.Sequential([layers.Dense(1, use_bias = True, input_shape = (1,), name = 'layer')])\n",
    "\n",
    "    # Otimizador\n",
    "    optimizer = tf.keras.optimizers.Adam(learning_rate = 0.01, \n",
    "                                         beta_1 = 0.9, \n",
    "                                         beta_2 = 0.99, \n",
    "                                         epsilon = 1e-05, \n",
    "                                         amsgrad = False, \n",
    "                                         name = 'Adam')\n",
    "    \n",
    "    # Compila o modelo\n",
    "    model.compile(loss = 'mse', \n",
    "                  optimizer = optimizer, \n",
    "                  metrics = ['mae','mse'])\n",
    "\n",
    "    return model"
   ]
  },
  {
   "cell_type": "markdown",
   "metadata": {},
   "source": [
    "MAE = Mean Absolute Error\n",
    "\n",
    "MSE = Mean Squared Error"
   ]
  },
  {
   "cell_type": "code",
   "execution_count": 15,
   "metadata": {},
   "outputs": [],
   "source": [
    "# Cria o modelo \n",
    "modelo = modelo_linear()"
   ]
  },
  {
   "cell_type": "code",
   "execution_count": 16,
   "metadata": {
    "colab": {
     "base_uri": "https://localhost:8080/",
     "height": 185
    },
    "colab_type": "code",
    "id": "okLiiirkWaot",
    "outputId": "a60d4638-bedc-47cf-8236-ab23a81dc2cc"
   },
   "outputs": [
    {
     "data": {
      "image/png": "[encoded data removed]",
      "text/plain": [
       "<IPython.core.display.Image object>"
      ]
     },
     "execution_count": 16,
     "metadata": {},
     "output_type": "execute_result"
    }
   ],
   "source": [
    "# Plot do modelo\n",
    "tf.keras.utils.plot_model(modelo, \n",
    "                          to_file = 'imagens/modelo.png', \n",
    "                          show_shapes = True, \n",
    "                          show_layer_names = True,\n",
    "                          rankdir = 'TB', \n",
    "                          expand_nested = False, \n",
    "                          dpi = 100)"
   ]
  },
  {
   "cell_type": "markdown",
   "metadata": {
    "colab_type": "text",
    "id": "6ny4wr5l3M_k"
   },
   "source": [
    "### Treinamento do Modelo"
   ]
  },
  {
   "cell_type": "code",
   "execution_count": 17,
   "metadata": {},
   "outputs": [
    {
     "name": "stdout",
     "output_type": "stream",
     "text": [
      "Checkpoint salvo a cada 81000 amostras\n"
     ]
    }
   ],
   "source": [
    "# Hiperparâmetros\n",
    "n_epochs = 4000\n",
    "batch_size = 256\n",
    "n_idle_epochs = 100\n",
    "n_epochs_log = 200\n",
    "n_samples_save = n_epochs_log * x_treino.shape[0]\n",
    "print('Checkpoint salvo a cada {} amostras'.format(n_samples_save))"
   ]
  },
  {
   "cell_type": "code",
   "execution_count": 18,
   "metadata": {},
   "outputs": [],
   "source": [
    "# Callback\n",
    "earlyStopping = tf.keras.callbacks.EarlyStopping(monitor = 'val_loss', \n",
    "                                                 patience = n_idle_epochs, \n",
    "                                                 min_delta = 0.001)"
   ]
  },
  {
   "cell_type": "code",
   "execution_count": 19,
   "metadata": {},
   "outputs": [],
   "source": [
    "# Lista para as previsões\n",
    "predictions_list = []"
   ]
  },
  {
   "cell_type": "code",
   "execution_count": 20,
   "metadata": {},
   "outputs": [],
   "source": [
    "# Caminho ppara salvar o checkpoint\n",
    "checkpoint_path = \"dados/\""
   ]
  },
  {
   "cell_type": "code",
   "execution_count": 21,
   "metadata": {},
   "outputs": [],
   "source": [
    "# Create a callback that saves the model's weights every n_samples_save\n",
    "checkpointCallback = tf.keras.callbacks.ModelCheckpoint(filepath = \"dados/\", \n",
    "                                                        verbose = 1, \n",
    "                                                        save_weights_only = True,\n",
    "                                                        save_freq = n_samples_save)"
   ]
  },
  {
   "cell_type": "code",
   "execution_count": 22,
   "metadata": {},
   "outputs": [],
   "source": [
    "# Salva a primeira versão do modelo\n",
    "modelo.save_weights(checkpoint_path.format(epoch = 0))"
   ]
  },
  {
   "cell_type": "code",
   "execution_count": null,
   "metadata": {
    "colab": {
     "base_uri": "https://localhost:8080/",
     "height": 235
    },
    "colab_type": "code",
    "id": "YKMSaOXnXmOT",
    "outputId": "df8ca3f0-5632-4e40-9707-8e00b6726795"
   },
   "outputs": [],
   "source": [
    "# Treinamento\n",
    "history = modelo.fit(x_treino, \n",
    "                     y_treino, \n",
    "                     batch_size = batch_size,\n",
    "                     epochs = n_epochs, \n",
    "                     validation_split = 0.1, \n",
    "                     verbose = 1, \n",
    "                     callbacks = [earlyStopping, checkpointCallback])"
   ]
  },
  {
   "cell_type": "code",
   "execution_count": 24,
   "metadata": {},
   "outputs": [
    {
     "name": "stdout",
     "output_type": "stream",
     "text": [
      "keys: dict_keys(['loss', 'mae', 'mse', 'val_loss', 'val_mae', 'val_mse'])\n"
     ]
    }
   ],
   "source": [
    "# Métricas do histórico de treinamento\n",
    "print('keys:', history.history.keys())"
   ]
  },
  {
   "cell_type": "markdown",
   "metadata": {},
   "source": [
    "MSE = Mean Squared Error"
   ]
  },
  {
   "cell_type": "code",
   "execution_count": 25,
   "metadata": {},
   "outputs": [],
   "source": [
    "# Retornando os valores desejados para o plot\n",
    "mse = np.asarray(history.history['mse'])\n",
    "val_mse = np.asarray(history.history['val_mse'])"
   ]
  },
  {
   "cell_type": "code",
   "execution_count": 26,
   "metadata": {},
   "outputs": [],
   "source": [
    "# Prepara os valores para o dataframe\n",
    "num_values = (len(mse))\n",
    "values = np.zeros((num_values, 2), dtype = float)\n",
    "values[:,0] = mse\n",
    "values[:,1] = val_mse"
   ]
  },
  {
   "cell_type": "code",
   "execution_count": 27,
   "metadata": {},
   "outputs": [],
   "source": [
    "# Cria o dataframe\n",
    "steps = pd.RangeIndex(start = 0, stop = num_values)\n",
    "df = pd.DataFrame(values, steps, columns = [\"MSE em Treino\", \"MSE em Validação\"])"
   ]
  },
  {
   "cell_type": "code",
   "execution_count": 28,
   "metadata": {},
   "outputs": [
    {
     "data": {
      "text/html": [
       "<div>\n",
       "<style scoped>\n",
       "    .dataframe tbody tr th:only-of-type {\n",
       "        vertical-align: middle;\n",
       "    }\n",
       "\n",
       "    .dataframe tbody tr th {\n",
       "        vertical-align: top;\n",
       "    }\n",
       "\n",
       "    .dataframe thead th {\n",
       "        text-align: right;\n",
       "    }\n",
       "</style>\n",
       "<table border=\"1\" class=\"dataframe\">\n",
       "  <thead>\n",
       "    <tr style=\"text-align: right;\">\n",
       "      <th></th>\n",
       "      <th>MSE em Treino</th>\n",
       "      <th>MSE em Validação</th>\n",
       "    </tr>\n",
       "  </thead>\n",
       "  <tbody>\n",
       "    <tr>\n",
       "      <th>0</th>\n",
       "      <td>822.269409</td>\n",
       "      <td>923.165405</td>\n",
       "    </tr>\n",
       "    <tr>\n",
       "      <th>1</th>\n",
       "      <td>814.120300</td>\n",
       "      <td>914.740845</td>\n",
       "    </tr>\n",
       "    <tr>\n",
       "      <th>2</th>\n",
       "      <td>806.193787</td>\n",
       "      <td>906.358032</td>\n",
       "    </tr>\n",
       "    <tr>\n",
       "      <th>3</th>\n",
       "      <td>798.202454</td>\n",
       "      <td>898.028748</td>\n",
       "    </tr>\n",
       "    <tr>\n",
       "      <th>4</th>\n",
       "      <td>790.205017</td>\n",
       "      <td>889.744446</td>\n",
       "    </tr>\n",
       "  </tbody>\n",
       "</table>\n",
       "</div>"
      ],
      "text/plain": [
       "   MSE em Treino  MSE em Validação\n",
       "0     822.269409        923.165405\n",
       "1     814.120300        914.740845\n",
       "2     806.193787        906.358032\n",
       "3     798.202454        898.028748\n",
       "4     790.205017        889.744446"
      ]
     },
     "execution_count": 28,
     "metadata": {},
     "output_type": "execute_result"
    }
   ],
   "source": [
    "df.head()"
   ]
  },
  {
   "cell_type": "code",
   "execution_count": 29,
   "metadata": {
    "colab": {
     "base_uri": "https://localhost:8080/",
     "height": 302
    },
    "colab_type": "code",
    "id": "uVvegIVGXvbv",
    "outputId": "be0dac35-2301-434d-97ab-07900016e970"
   },
   "outputs": [
    {
     "data": {
      "text/plain": [
       "<AxesSubplot:>"
      ]
     },
     "execution_count": 29,
     "metadata": {},
     "output_type": "execute_result"
    },
    {
     "data": {
      "image/png": "[encoded data removed]",
      "text/plain": [
       "<Figure size 432x288 with 1 Axes>"
      ]
     },
     "metadata": {},
     "output_type": "display_data"
    }
   ],
   "source": [
    "# Plot\n",
    "sns.set(style = \"whitegrid\")\n",
    "sns.lineplot(data = df, palette = \"tab10\", linewidth  = 2.5)"
   ]
  },
  {
   "cell_type": "code",
   "execution_count": 30,
   "metadata": {},
   "outputs": [],
   "source": [
    "# Previsões com o modelo treinado\n",
    "previsoes = modelo.predict(x_teste).flatten()"
   ]
  },
  {
   "cell_type": "code",
   "execution_count": 31,
   "metadata": {
    "colab": {},
    "colab_type": "code",
    "id": "KniAsElx9cqB"
   },
   "outputs": [
    {
     "data": {
      "text/plain": [
       "array([21.058113, 18.82715 , 23.762814, 21.432693, 20.76065 , 20.84879 ,\n",
       "       24.313667, 21.967026, 21.201336, 21.025063, 25.53106 , 23.333145,\n",
       "       21.394135, 22.699661, 23.178905, 21.702614, 26.58319 , 23.267044,\n",
       "       28.83619 , 20.215305, 20.639465, 21.15176 , 19.55428 , 21.058113,\n",
       "       19.344954, 23.410267, 22.831867, 15.119894, 17.752981, 34.118893,\n",
       "       21.592442, 18.67842 , 20.259377, 22.771275, 30.758675, 24.137394,\n",
       "       21.878887, 27.525154, 25.44292 , 31.364616, 27.134045, 29.90485 ,\n",
       "       31.243427, 17.752981, 23.00814 , 23.200943, 18.794098, 23.448826,\n",
       "       35.93121 , 34.245586, 18.612316, 33.689224, 30.35104 , 25.586143,\n",
       "       23.531456, 22.771275, 25.778942, 27.359898, 24.50647 , 24.159428,\n",
       "       23.107296, 19.427584, 23.322128, 22.776783, 21.239899, 20.45768 ,\n",
       "       21.361084, 22.203892, 21.735664, 21.653038, 26.632767, 24.61113 ,\n",
       "       12.046122, 14.866501, 17.675861, 23.267044, 18.022902, 18.45257 ,\n",
       "       23.300095, 21.603462, 20.463188, 25.624706, 20.033524, 23.70773 ,\n",
       "       22.05516 , 23.333145, 25.161987, 22.67212 , 25.046307, 24.897575,\n",
       "       22.782291, 22.187366, 20.771671, 21.956005, 23.443317, 23.70222 ,\n",
       "       18.02841 , 17.808067, 16.039822, 20.942432, 25.40987 ],\n",
       "      dtype=float32)"
      ]
     },
     "execution_count": 31,
     "metadata": {},
     "output_type": "execute_result"
    }
   ],
   "source": [
    "# Imprime as previsões\n",
    "previsoes"
   ]
  },
  {
   "cell_type": "markdown",
   "metadata": {},
   "source": [
    "# Fim"
   ]
  },
  {
   "cell_type": "markdown",
   "metadata": {},
   "source": [
    "### Obrigado\n",
    "\n",
    "### Visite o Blog da Data Science Academy - <a href=\"http://blog.dsacademy.com.br\">Blog DSA</a>"
   ]
  }
 ],
 "metadata": {
  "colab": {
   "collapsed_sections": [],
   "name": "linearRegressionOneVariable.ipynb",
   "provenance": []
  },
  "kernelspec": {
   "display_name": "Python 3.10.8 64-bit (microsoft store)",
   "language": "python",
   "name": "python3"
  },
  "language_info": {
   "codemirror_mode": {
    "name": "ipython",
    "version": 3
   },
   "file_extension": ".py",
   "mimetype": "text/x-python",
   "name": "python",
   "nbconvert_exporter": "python",
   "pygments_lexer": "ipython3",
   "version": "3.10.8"
  },
  "vscode": {
   "interpreter": {
    "hash": "366c4c5561b3b7192db4ea44ad2361e84217bc9c8517193206197b435f3a3215"
   }
  }
 },
 "nbformat": 4,
 "nbformat_minor": 1
}
