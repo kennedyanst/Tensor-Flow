{
 "cells": [
  {
   "cell_type": "code",
   "execution_count": null,
   "id": "5a4f13c4",
   "metadata": {},
   "outputs": [],
   "source": [
    "#!pip install tensorflow\n",
    "#!pip install --upgrade pip"
   ]
  },
  {
   "cell_type": "code",
   "execution_count": 4,
   "id": "b386372c",
   "metadata": {},
   "outputs": [],
   "source": [
    "import tensorflow as tf"
   ]
  },
  {
   "cell_type": "code",
   "execution_count": 3,
   "id": "88c0ae95",
   "metadata": {},
   "outputs": [
    {
     "data": {
      "text/plain": [
       "'2.10.0'"
      ]
     },
     "execution_count": 3,
     "metadata": {},
     "output_type": "execute_result"
    }
   ],
   "source": [
    "tf.__version__"
   ]
  },
  {
   "cell_type": "code",
   "execution_count": 4,
   "id": "13b40444",
   "metadata": {},
   "outputs": [],
   "source": [
    "hello = tf.constant(\"Hello, Tensor Flow!\")"
   ]
  },
  {
   "cell_type": "code",
   "execution_count": 5,
   "id": "902bb546",
   "metadata": {},
   "outputs": [
    {
     "name": "stdout",
     "output_type": "stream",
     "text": [
      "tf.Tensor(b'Hello, Tensor Flow!', shape=(), dtype=string)\n"
     ]
    }
   ],
   "source": [
    "print(hello)"
   ]
  },
  {
   "cell_type": "markdown",
   "id": "aa75fc8f",
   "metadata": {},
   "source": [
    "# Operações Matemáticas com Tensores"
   ]
  },
  {
   "cell_type": "markdown",
   "id": "64f3ad87",
   "metadata": {},
   "source": [
    "## Soma"
   ]
  },
  {
   "cell_type": "code",
   "execution_count": 5,
   "id": "cfd627cb",
   "metadata": {},
   "outputs": [],
   "source": [
    "# Contantes\n",
    "const_a = tf.constant(5)\n",
    "const_b = tf.constant(9)"
   ]
  },
  {
   "cell_type": "code",
   "execution_count": 6,
   "id": "8734b726",
   "metadata": {},
   "outputs": [
    {
     "name": "stdout",
     "output_type": "stream",
     "text": [
      "tf.Tensor(5, shape=(), dtype=int32) tf.Tensor(9, shape=(), dtype=int32)\n"
     ]
    }
   ],
   "source": [
    "print(const_a, const_b)"
   ]
  },
  {
   "cell_type": "code",
   "execution_count": 7,
   "id": "d57118a9",
   "metadata": {},
   "outputs": [],
   "source": [
    "# Soma\n",
    "total = const_b + const_a"
   ]
  },
  {
   "cell_type": "code",
   "execution_count": 8,
   "id": "0c4d1be1",
   "metadata": {},
   "outputs": [
    {
     "name": "stdout",
     "output_type": "stream",
     "text": [
      "tf.Tensor(14, shape=(), dtype=int32)\n"
     ]
    }
   ],
   "source": [
    "print(total)"
   ]
  },
  {
   "cell_type": "code",
   "execution_count": 9,
   "id": "5a2d88ba",
   "metadata": {},
   "outputs": [
    {
     "name": "stdout",
     "output_type": "stream",
     "text": [
      "\n",
      "A soma do node1 com o node2 é: 14\n"
     ]
    }
   ],
   "source": [
    "# Criando os nodes no grafo computacional\n",
    "node1 = tf.constant(5, dtype = tf.int32)\n",
    "node2 = tf.constant(9, dtype = tf.int32)\n",
    "node3 = tf.add(node1, node2)\n",
    "\n",
    "# Executa o grafo\n",
    "print(f\"\\nA soma do node1 com o node2 é: {node3}\")"
   ]
  },
  {
   "cell_type": "markdown",
   "id": "106e63db",
   "metadata": {},
   "source": [
    "## Subtração"
   ]
  },
  {
   "cell_type": "code",
   "execution_count": 10,
   "id": "85f74b74",
   "metadata": {},
   "outputs": [],
   "source": [
    "# Tensores randômicos\n",
    "rand_a = tf.random.normal([3], 2.0)\n",
    "rand_b = tf.random.normal([3], 1.0, 4.0)"
   ]
  },
  {
   "cell_type": "code",
   "execution_count": 11,
   "id": "431084bb",
   "metadata": {},
   "outputs": [
    {
     "name": "stdout",
     "output_type": "stream",
     "text": [
      "tf.Tensor([-0.6317804  1.7159085  1.566599 ], shape=(3,), dtype=float32)\n",
      "tf.Tensor([-3.069655   2.2090158 -2.8506088], shape=(3,), dtype=float32)\n"
     ]
    }
   ],
   "source": [
    "print(rand_a)\n",
    "print(rand_b)"
   ]
  },
  {
   "cell_type": "code",
   "execution_count": 12,
   "id": "a7920270",
   "metadata": {},
   "outputs": [],
   "source": [
    "# Subtração \n",
    "sub = tf.subtract(rand_a, rand_b)"
   ]
  },
  {
   "cell_type": "code",
   "execution_count": 13,
   "id": "2b943838",
   "metadata": {},
   "outputs": [
    {
     "name": "stdout",
     "output_type": "stream",
     "text": [
      "tf.Tensor([ 2.4378746  -0.49310732  4.4172077 ], shape=(3,), dtype=float32)\n"
     ]
    },
    {
     "data": {
      "text/plain": [
       "tensorflow.python.framework.ops.EagerTensor"
      ]
     },
     "execution_count": 13,
     "metadata": {},
     "output_type": "execute_result"
    }
   ],
   "source": [
    "print(sub)\n",
    "type(sub)"
   ]
  },
  {
   "cell_type": "markdown",
   "id": "c097ab7f",
   "metadata": {},
   "source": [
    "## Divisão"
   ]
  },
  {
   "cell_type": "code",
   "execution_count": 14,
   "id": "b6e411ae",
   "metadata": {},
   "outputs": [],
   "source": [
    "node1 = tf.constant(21,dtype=tf.int32)\n",
    "node2 = tf.constant(7, dtype=tf.int32)"
   ]
  },
  {
   "cell_type": "code",
   "execution_count": 15,
   "id": "38a87905",
   "metadata": {},
   "outputs": [
    {
     "name": "stdout",
     "output_type": "stream",
     "text": [
      "A divisão entre os tensores é: \n",
      " 3.0\n"
     ]
    }
   ],
   "source": [
    "# Divisão\n",
    "div = tf.math.truediv(node1, node2)\n",
    "print(f\"A divisão entre os tensores é: \\n {div}\")"
   ]
  },
  {
   "cell_type": "code",
   "execution_count": 16,
   "id": "c8ce7d77",
   "metadata": {},
   "outputs": [
    {
     "name": "stdout",
     "output_type": "stream",
     "text": [
      "tf.Tensor(3.0, shape=(), dtype=float64)\n"
     ]
    }
   ],
   "source": [
    "print(div)"
   ]
  },
  {
   "cell_type": "markdown",
   "id": "ef1c3c1c",
   "metadata": {},
   "source": [
    "## Multiplicação"
   ]
  },
  {
   "cell_type": "code",
   "execution_count": 17,
   "id": "03aded32",
   "metadata": {},
   "outputs": [],
   "source": [
    "# Criando tensores\n",
    "tensor_a = tf.constant([[4., 2.]])\n",
    "tensor_b = tf.constant([[3.],[7.]])"
   ]
  },
  {
   "cell_type": "code",
   "execution_count": 18,
   "id": "daa3e7e7",
   "metadata": {},
   "outputs": [
    {
     "name": "stdout",
     "output_type": "stream",
     "text": [
      "tf.Tensor([[4. 2.]], shape=(1, 2), dtype=float32)\n",
      "tf.Tensor(\n",
      "[[3.]\n",
      " [7.]], shape=(2, 1), dtype=float32)\n"
     ]
    }
   ],
   "source": [
    "print(tensor_a)\n",
    "print(tensor_b)"
   ]
  },
  {
   "cell_type": "code",
   "execution_count": 19,
   "id": "89ad95ec",
   "metadata": {},
   "outputs": [],
   "source": [
    "# Multiplicação \n",
    "prod = tf.math.multiply(tensor_a, tensor_b)"
   ]
  },
  {
   "cell_type": "code",
   "execution_count": 20,
   "id": "d635d6ce",
   "metadata": {},
   "outputs": [
    {
     "name": "stdout",
     "output_type": "stream",
     "text": [
      "tf.Tensor(\n",
      "[[12.  6.]\n",
      " [28. 14.]], shape=(2, 2), dtype=float32)\n"
     ]
    }
   ],
   "source": [
    "print(prod)"
   ]
  },
  {
   "cell_type": "code",
   "execution_count": 21,
   "id": "41cca9b5",
   "metadata": {},
   "outputs": [],
   "source": [
    "# Outro exemplo de Multiplicação de Matrizes\n",
    "mat_a = tf.constant([[2, 3], [9, 2], [4, 5]])\n",
    "mat_b = tf.constant([[6, 4, 5], [3, 7, 2]])"
   ]
  },
  {
   "cell_type": "code",
   "execution_count": 22,
   "id": "768d4a12",
   "metadata": {},
   "outputs": [
    {
     "name": "stdout",
     "output_type": "stream",
     "text": [
      "tf.Tensor(\n",
      "[[2 3]\n",
      " [9 2]\n",
      " [4 5]], shape=(3, 2), dtype=int32)\n",
      "tf.Tensor(\n",
      "[[6 4 5]\n",
      " [3 7 2]], shape=(2, 3), dtype=int32)\n"
     ]
    }
   ],
   "source": [
    "print(mat_a)\n",
    "print(mat_b)"
   ]
  },
  {
   "cell_type": "code",
   "execution_count": 23,
   "id": "aed2a5d4",
   "metadata": {},
   "outputs": [],
   "source": [
    "# Multiplicação\n",
    "mat_prod = tf.linalg.matmul(mat_a, mat_b)"
   ]
  },
  {
   "cell_type": "code",
   "execution_count": 24,
   "id": "e3059ad2",
   "metadata": {},
   "outputs": [
    {
     "name": "stdout",
     "output_type": "stream",
     "text": [
      "tf.Tensor(\n",
      "[[21 29 16]\n",
      " [60 50 49]\n",
      " [39 51 30]], shape=(3, 3), dtype=int32)\n"
     ]
    }
   ],
   "source": [
    "print(mat_prod)"
   ]
  },
  {
   "cell_type": "markdown",
   "id": "2f77bb33",
   "metadata": {},
   "source": [
    "## Usando variáveis"
   ]
  },
  {
   "cell_type": "code",
   "execution_count": 25,
   "id": "8ae6675e",
   "metadata": {},
   "outputs": [
    {
     "data": {
      "text/plain": [
       "(<tf.Variable 'Variable:0' shape=(2,) dtype=int32, numpy=array([10,  7])>,\n",
       " <tf.Tensor: shape=(2,), dtype=int32, numpy=array([10,  7])>)"
      ]
     },
     "execution_count": 25,
     "metadata": {},
     "output_type": "execute_result"
    }
   ],
   "source": [
    "# Criando o mesmo tensor com tf.Variable() e tf.constant()\n",
    "tensor_mutavel = tf.Variable([10, 7])\n",
    "tensor_imutavel = tf.constant([10,7])\n",
    "tensor_mutavel, tensor_imutavel"
   ]
  },
  {
   "cell_type": "code",
   "execution_count": 26,
   "id": "a31f8067",
   "metadata": {},
   "outputs": [
    {
     "ename": "TypeError",
     "evalue": "'ResourceVariable' object does not support item assignment",
     "output_type": "error",
     "traceback": [
      "\u001b[1;31m---------------------------------------------------------------------------\u001b[0m",
      "\u001b[1;31mTypeError\u001b[0m                                 Traceback (most recent call last)",
      "\u001b[1;32mc:\\Users\\kenne\\OneDrive\\Área de Trabalho\\Python Fundamentos para Analise de dados - Curso\\PythonFundamentos-master\\Cap10\\Notebooks\\TensorFlow_Aula_Introducao.ipynb Célula: 33\u001b[0m in \u001b[0;36m<cell line: 2>\u001b[1;34m()\u001b[0m\n\u001b[0;32m      <a href='vscode-notebook-cell:/c%3A/Users/kenne/OneDrive/%C3%81rea%20de%20Trabalho/Python%20Fundamentos%20para%20Analise%20de%20dados%20-%20Curso/PythonFundamentos-master/Cap10/Notebooks/TensorFlow_Aula_Introducao.ipynb#X44sZmlsZQ%3D%3D?line=0'>1</a>\u001b[0m \u001b[39m# Utilizando o metodo assing() para mudar um tensor variavel\u001b[39;00m\n\u001b[1;32m----> <a href='vscode-notebook-cell:/c%3A/Users/kenne/OneDrive/%C3%81rea%20de%20Trabalho/Python%20Fundamentos%20para%20Analise%20de%20dados%20-%20Curso/PythonFundamentos-master/Cap10/Notebooks/TensorFlow_Aula_Introducao.ipynb#X44sZmlsZQ%3D%3D?line=1'>2</a>\u001b[0m tensor_mutavel[\u001b[39m0\u001b[39m] \u001b[39m=\u001b[39m \u001b[39m7\u001b[39m\n\u001b[0;32m      <a href='vscode-notebook-cell:/c%3A/Users/kenne/OneDrive/%C3%81rea%20de%20Trabalho/Python%20Fundamentos%20para%20Analise%20de%20dados%20-%20Curso/PythonFundamentos-master/Cap10/Notebooks/TensorFlow_Aula_Introducao.ipynb#X44sZmlsZQ%3D%3D?line=2'>3</a>\u001b[0m tensor_mutavel\n",
      "\u001b[1;31mTypeError\u001b[0m: 'ResourceVariable' object does not support item assignment"
     ]
    }
   ],
   "source": [
    "# Utilizando o metodo assing() para mudar um tensor variavel\n",
    "tensor_mutavel[0] = 7\n",
    "tensor_mutavel"
   ]
  },
  {
   "cell_type": "code",
   "execution_count": 27,
   "id": "65229171",
   "metadata": {},
   "outputs": [
    {
     "data": {
      "text/plain": [
       "<tf.Variable 'Variable:0' shape=(2,) dtype=int32, numpy=array([7, 7])>"
      ]
     },
     "execution_count": 27,
     "metadata": {},
     "output_type": "execute_result"
    }
   ],
   "source": [
    "tensor_mutavel[0].assign(7)\n",
    "tensor_mutavel"
   ]
  },
  {
   "cell_type": "markdown",
   "id": "0c891416",
   "metadata": {},
   "source": [
    "# **NÃO SE PODE ALTERAR UM TENSOR CRIADO COM tf.constant()**"
   ]
  },
  {
   "cell_type": "markdown",
   "id": "839f08a4",
   "metadata": {},
   "source": [
    "# Obs: Na maioria das vezes o Tensor Flow escolhe automaticamente se vai usar tensor variavel ou constante, ao carregar ou modelar dados."
   ]
  },
  {
   "cell_type": "code",
   "execution_count": 29,
   "id": "b2b13f0e",
   "metadata": {},
   "outputs": [
    {
     "data": {
      "text/plain": [
       "<tf.Tensor: shape=(10, 3), dtype=float32, numpy=\n",
       "array([[1., 1., 1.],\n",
       "       [1., 1., 1.],\n",
       "       [1., 1., 1.],\n",
       "       [1., 1., 1.],\n",
       "       [1., 1., 1.],\n",
       "       [1., 1., 1.],\n",
       "       [1., 1., 1.],\n",
       "       [1., 1., 1.],\n",
       "       [1., 1., 1.],\n",
       "       [1., 1., 1.]], dtype=float32)>"
      ]
     },
     "execution_count": 29,
     "metadata": {},
     "output_type": "execute_result"
    }
   ],
   "source": [
    "# Tensor preenchido com 1\n",
    "tf.ones(shape=(10,3))"
   ]
  },
  {
   "cell_type": "code",
   "execution_count": 30,
   "id": "430c29c5",
   "metadata": {},
   "outputs": [
    {
     "data": {
      "text/plain": [
       "<tf.Tensor: shape=(20, 3), dtype=float32, numpy=\n",
       "array([[0., 0., 0.],\n",
       "       [0., 0., 0.],\n",
       "       [0., 0., 0.],\n",
       "       [0., 0., 0.],\n",
       "       [0., 0., 0.],\n",
       "       [0., 0., 0.],\n",
       "       [0., 0., 0.],\n",
       "       [0., 0., 0.],\n",
       "       [0., 0., 0.],\n",
       "       [0., 0., 0.],\n",
       "       [0., 0., 0.],\n",
       "       [0., 0., 0.],\n",
       "       [0., 0., 0.],\n",
       "       [0., 0., 0.],\n",
       "       [0., 0., 0.],\n",
       "       [0., 0., 0.],\n",
       "       [0., 0., 0.],\n",
       "       [0., 0., 0.],\n",
       "       [0., 0., 0.],\n",
       "       [0., 0., 0.]], dtype=float32)>"
      ]
     },
     "execution_count": 30,
     "metadata": {},
     "output_type": "execute_result"
    }
   ],
   "source": [
    "# Tensor preenchido com 0\n",
    "tf.zeros(shape=(20,3))"
   ]
  },
  {
   "cell_type": "code",
   "execution_count": 31,
   "id": "0c43e3d8",
   "metadata": {},
   "outputs": [
    {
     "data": {
      "text/plain": [
       "<tf.Tensor: shape=(2, 3, 4, 5), dtype=float32, numpy=\n",
       "array([[[[0., 0., 0., 0., 0.],\n",
       "         [0., 0., 0., 0., 0.],\n",
       "         [0., 0., 0., 0., 0.],\n",
       "         [0., 0., 0., 0., 0.]],\n",
       "\n",
       "        [[0., 0., 0., 0., 0.],\n",
       "         [0., 0., 0., 0., 0.],\n",
       "         [0., 0., 0., 0., 0.],\n",
       "         [0., 0., 0., 0., 0.]],\n",
       "\n",
       "        [[0., 0., 0., 0., 0.],\n",
       "         [0., 0., 0., 0., 0.],\n",
       "         [0., 0., 0., 0., 0.],\n",
       "         [0., 0., 0., 0., 0.]]],\n",
       "\n",
       "\n",
       "       [[[0., 0., 0., 0., 0.],\n",
       "         [0., 0., 0., 0., 0.],\n",
       "         [0., 0., 0., 0., 0.],\n",
       "         [0., 0., 0., 0., 0.]],\n",
       "\n",
       "        [[0., 0., 0., 0., 0.],\n",
       "         [0., 0., 0., 0., 0.],\n",
       "         [0., 0., 0., 0., 0.],\n",
       "         [0., 0., 0., 0., 0.]],\n",
       "\n",
       "        [[0., 0., 0., 0., 0.],\n",
       "         [0., 0., 0., 0., 0.],\n",
       "         [0., 0., 0., 0., 0.],\n",
       "         [0., 0., 0., 0., 0.]]]], dtype=float32)>"
      ]
     },
     "execution_count": 31,
     "metadata": {},
     "output_type": "execute_result"
    }
   ],
   "source": [
    "# Criando um tensor rank 4 (4 DIMENSÕES)\n",
    "rank_4_tensor = tf.zeros([2,3,4,5])\n",
    "rank_4_tensor"
   ]
  },
  {
   "cell_type": "code",
   "execution_count": 34,
   "id": "ba6184c8",
   "metadata": {},
   "outputs": [
    {
     "data": {
      "text/plain": [
       "TensorShape([2, 3, 4, 5])"
      ]
     },
     "execution_count": 34,
     "metadata": {},
     "output_type": "execute_result"
    }
   ],
   "source": [
    "rank_4_tensor.shape"
   ]
  },
  {
   "cell_type": "code",
   "execution_count": 35,
   "id": "26cdc0a0",
   "metadata": {},
   "outputs": [
    {
     "name": "stdout",
     "output_type": "stream",
     "text": [
      "Tipo de dado de cada elemeno: <dtype: 'float32'>\n",
      "Número de dimensões (rank): 4\n",
      "Shape do tensor: (2, 3, 4, 5)\n",
      "Elemento no eixo 0 do tensor:  2\n",
      "Elemento no último eixo do tensor: 5\n",
      "Número total de elementos (2*3*4*5): 120\n"
     ]
    }
   ],
   "source": [
    "# Imprime atributos do tensor\n",
    "print(\"Tipo de dado de cada elemeno:\", rank_4_tensor.dtype)\n",
    "print(\"Número de dimensões (rank):\", rank_4_tensor.ndim)\n",
    "print(\"Shape do tensor:\", rank_4_tensor.shape)\n",
    "print(\"Elemento no eixo 0 do tensor: \", rank_4_tensor.shape[0])\n",
    "print(\"Elemento no último eixo do tensor:\", rank_4_tensor.shape[-1])\n",
    "print(\"Número total de elementos (2*3*4*5):\", tf.size(rank_4_tensor).numpy())"
   ]
  },
  {
   "cell_type": "code",
   "execution_count": 36,
   "id": "e59c8482",
   "metadata": {},
   "outputs": [
    {
     "data": {
      "text/plain": [
       "<tf.Tensor: shape=(2, 2, 2, 2), dtype=float32, numpy=\n",
       "array([[[[0., 0.],\n",
       "         [0., 0.]],\n",
       "\n",
       "        [[0., 0.],\n",
       "         [0., 0.]]],\n",
       "\n",
       "\n",
       "       [[[0., 0.],\n",
       "         [0., 0.]],\n",
       "\n",
       "        [[0., 0.],\n",
       "         [0., 0.]]]], dtype=float32)>"
      ]
     },
     "execution_count": 36,
     "metadata": {},
     "output_type": "execute_result"
    }
   ],
   "source": [
    "# Obtém os 2 primeiros itens de cada dimensão\n",
    "rank_4_tensor[:2, :2, :2, :2]"
   ]
  },
  {
   "cell_type": "code",
   "execution_count": 37,
   "id": "d863aeb7",
   "metadata": {},
   "outputs": [
    {
     "data": {
      "text/plain": [
       "<tf.Tensor: shape=(1, 1, 1, 5), dtype=float32, numpy=array([[[[0., 0., 0., 0., 0.]]]], dtype=float32)>"
      ]
     },
     "execution_count": 37,
     "metadata": {},
     "output_type": "execute_result"
    }
   ],
   "source": [
    "# Obtém a dimensão de cada índice, exceto o final\n",
    "rank_4_tensor[:1, :1, :1, :]"
   ]
  },
  {
   "cell_type": "code",
   "execution_count": 39,
   "id": "27f0fad6",
   "metadata": {},
   "outputs": [],
   "source": [
    "# Criar um tensor de rank 2 (2 dimensões)\n",
    "rank_2_tensor = tf.constant([[10, 7],\n",
    "                            [3, 4]])"
   ]
  },
  {
   "cell_type": "code",
   "execution_count": 40,
   "id": "49162cf3",
   "metadata": {},
   "outputs": [
    {
     "data": {
      "text/plain": [
       "<tf.Tensor: shape=(2,), dtype=int32, numpy=array([7, 4])>"
      ]
     },
     "execution_count": 40,
     "metadata": {},
     "output_type": "execute_result"
    }
   ],
   "source": [
    "# Obtém o último item de cada linha\n",
    "rank_2_tensor[:, -1]"
   ]
  },
  {
   "cell_type": "markdown",
   "id": "cd309adb",
   "metadata": {},
   "source": [
    "# FIM. "
   ]
  }
 ],
 "metadata": {
  "kernelspec": {
   "display_name": "Python 3.10.8 64-bit (microsoft store)",
   "language": "python",
   "name": "python3"
  },
  "language_info": {
   "codemirror_mode": {
    "name": "ipython",
    "version": 3
   },
   "file_extension": ".py",
   "mimetype": "text/x-python",
   "name": "python",
   "nbconvert_exporter": "python",
   "pygments_lexer": "ipython3",
   "version": "3.10.8"
  },
  "vscode": {
   "interpreter": {
    "hash": "366c4c5561b3b7192db4ea44ad2361e84217bc9c8517193206197b435f3a3215"
   }
  }
 },
 "nbformat": 4,
 "nbformat_minor": 5
}
